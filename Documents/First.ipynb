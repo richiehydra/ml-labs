{
  "nbformat": 4,
  "nbformat_minor": 0,
  "metadata": {
    "colab": {
      "provenance": []
    },
    "kernelspec": {
      "name": "python3",
      "display_name": "Python 3"
    },
    "language_info": {
      "name": "python"
    }
  },
  "cells": [
    {
      "cell_type": "code",
      "execution_count": 2,
      "metadata": {
        "id": "A2BPVrYevDoR"
      },
      "outputs": [],
      "source": [
        "arr=[115.3,195.5,120.5,110.2,90.4,105.6,110.9,116.3,122.3,125.4]\n",
        "n=len(arr)"
      ]
    },
    {
      "cell_type": "code",
      "source": [
        "sum=0\n",
        "for i in arr:\n",
        "  sum=sum+i\n",
        "\n",
        "mean=sum/n\n",
        "\n",
        "print(\"Mean is:\",mean)"
      ],
      "metadata": {
        "colab": {
          "base_uri": "https://localhost:8080/"
        },
        "id": "Uik58H_OvN-8",
        "outputId": "b35ac98b-f34a-4054-d1b3-c39fac520157"
      },
      "execution_count": 3,
      "outputs": [
        {
          "output_type": "stream",
          "name": "stdout",
          "text": [
            "Mean is: 121.24000000000001\n"
          ]
        }
      ]
    },
    {
      "cell_type": "code",
      "source": [
        "median=0\n",
        "if(n%2==0):\n",
        "  median=arr[n//2]+arr[n//2-1]\n",
        "  median=median//2;\n",
        "else:\n",
        "  median=arr[n//2]\n",
        "\n",
        "print(\"Median is:\",median)"
      ],
      "metadata": {
        "colab": {
          "base_uri": "https://localhost:8080/"
        },
        "id": "6la5geUSvW9V",
        "outputId": "3726f03b-42c1-453d-b2dd-c9925214b81d"
      },
      "execution_count": 4,
      "outputs": [
        {
          "output_type": "stream",
          "name": "stdout",
          "text": [
            "Median is: 98.0\n"
          ]
        }
      ]
    },
    {
      "cell_type": "code",
      "source": [
        "import math\n",
        "\n",
        "variance=0\n",
        "for i in arr:\n",
        "  variance+=pow((i-mean),2)\n",
        "\n",
        "variance=variance/n\n",
        "\n",
        "print(\"Variance=\",variance)\n",
        "\n",
        "print(\"Standard Deviation=\" , round(math.sqrt(variance),3))\n"
      ],
      "metadata": {
        "colab": {
          "base_uri": "https://localhost:8080/"
        },
        "id": "dG-wSSW7vlbW",
        "outputId": "49133133-6972-4867-b146-e6b605f81ddf"
      },
      "execution_count": 5,
      "outputs": [
        {
          "output_type": "stream",
          "name": "stdout",
          "text": [
            "Variance= 701.7724\n",
            "Standard Deviation= 26.491\n"
          ]
        }
      ]
    },
    {
      "cell_type": "code",
      "source": [
        "mini=min(arr)\n",
        "maxi=max(arr)\n",
        "\n",
        "for i in range(0,n):\n",
        "  arr[i]=round((arr[i]-mini)/(maxi-mini),3)\n",
        "\n",
        "print(arr)"
      ],
      "metadata": {
        "colab": {
          "base_uri": "https://localhost:8080/"
        },
        "id": "3cFPGUs6wEYc",
        "outputId": "ba946e5d-fff2-41bc-e147-d698204333a8"
      },
      "execution_count": 6,
      "outputs": [
        {
          "output_type": "stream",
          "name": "stdout",
          "text": [
            "[0.237, 1.0, 0.286, 0.188, 0.0, 0.145, 0.195, 0.246, 0.304, 0.333]\n"
          ]
        }
      ]
    },
    {
      "cell_type": "code",
      "source": [
        "for i in range(0,n):\n",
        "  arr[i]=round((arr[i]-mean)/math.sqrt(variance/n),3)\n",
        "\n",
        "print(arr)"
      ],
      "metadata": {
        "colab": {
          "base_uri": "https://localhost:8080/"
        },
        "id": "bmB6w1prwTAm",
        "outputId": "70ffabbf-6760-4f1e-b0f7-8a93a2433825"
      },
      "execution_count": 8,
      "outputs": [
        {
          "output_type": "stream",
          "name": "stdout",
          "text": [
            "[-16.197, -16.186, -16.196, -16.198, -16.2, -16.198, -16.197, -16.197, -16.196, -16.196]\n"
          ]
        }
      ]
    }
  ]
}