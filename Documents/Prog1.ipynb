{
 "cells": [
  {
   "cell_type": "code",
   "execution_count": 25,
   "id": "35026725",
   "metadata": {},
   "outputs": [
    {
     "data": {
      "text/plain": [
       "[90.4, 105.6, 110.2, 110.9, 115.3, 116.3, 120.5, 122.3, 125.4, 195.5]"
      ]
     },
     "execution_count": 25,
     "metadata": {},
     "output_type": "execute_result"
    }
   ],
   "source": [
    "arr=[115.3,195.5,120.5,110.2,90.4,105.6,110.9,116.3,122.3,125.4]\n",
    "a=[115.3,195.5,120.5,110.2,90.4,105.6,110.9,116.3,122.3,125.4]\n",
    "arr.sort()\n",
    "a.sort()\n",
    "a"
   ]
  },
  {
   "cell_type": "markdown",
   "id": "d133fb6f",
   "metadata": {},
   "source": [
    "# MEAN"
   ]
  },
  {
   "cell_type": "code",
   "execution_count": 26,
   "id": "279a0bcb",
   "metadata": {
    "scrolled": true
   },
   "outputs": [
    {
     "name": "stdout",
     "output_type": "stream",
     "text": [
      "mean 121.23999999999998\n"
     ]
    }
   ],
   "source": [
    "n=len(arr)\n",
    "sum=0\n",
    "for i in arr:\n",
    "    sum+=i\n",
    "mean=sum/n\n",
    "print(\"mean\",mean)"
   ]
  },
  {
   "cell_type": "markdown",
   "id": "dd87a718",
   "metadata": {},
   "source": [
    "# MEDIAN\n"
   ]
  },
  {
   "cell_type": "code",
   "execution_count": 27,
   "id": "717d5849",
   "metadata": {},
   "outputs": [
    {
     "name": "stdout",
     "output_type": "stream",
     "text": [
      "median 115.8\n"
     ]
    },
    {
     "data": {
      "text/plain": [
       "[90.4, 105.6, 110.2, 110.9, 115.3, 116.3, 120.5, 122.3, 125.4, 195.5]"
      ]
     },
     "execution_count": 27,
     "metadata": {},
     "output_type": "execute_result"
    }
   ],
   "source": [
    "arr.sort()\n",
    "s=0\n",
    "if (n%2==0):\n",
    "    s=arr[n//2]+arr[(n//2)-1]\n",
    "    s/=2\n",
    "    print(\"median\",s)\n",
    "else:\n",
    "    print(\"median\",arr[n//2])\n",
    "\n",
    "arr\n"
   ]
  },
  {
   "cell_type": "markdown",
   "id": "37b6ca7f",
   "metadata": {},
   "source": [
    "# VARIANCE"
   ]
  },
  {
   "cell_type": "code",
   "execution_count": 28,
   "id": "06abbdd1",
   "metadata": {},
   "outputs": [
    {
     "name": "stdout",
     "output_type": "stream",
     "text": [
      "Variance is 779.747111111111 \n",
      "SD is :  27.924\n",
      "27.924\n"
     ]
    }
   ],
   "source": [
    "import math\n",
    "variance=0\n",
    "for i in arr:\n",
    "    variance+=pow((i-mean),2)\n",
    "print(\"Variance is\",variance/(n-1),\"\\nSD is : \",round(math.sqrt(variance/(n-1)),4))\n",
    "sd=round(math.sqrt(variance/(n-1)),4)\n",
    "print(sd)"
   ]
  },
  {
   "cell_type": "markdown",
   "id": "41ede146",
   "metadata": {},
   "source": [
    "# NORMALIZATION"
   ]
  },
  {
   "cell_type": "code",
   "execution_count": 29,
   "id": "0323d428",
   "metadata": {},
   "outputs": [
    {
     "data": {
      "text/plain": [
       "[0.0, 0.145, 0.188, 0.195, 0.237, 0.246, 0.286, 0.304, 0.333, 1.0]"
      ]
     },
     "execution_count": 29,
     "metadata": {},
     "output_type": "execute_result"
    }
   ],
   "source": [
    "mini=min(arr)\n",
    "maxi=max(arr)\n",
    "\n",
    "for i in range(0,n):\n",
    "    arr[i]=round((arr[i]-mini)/(maxi-mini),3)\n",
    "arr"
   ]
  },
  {
   "cell_type": "code",
   "execution_count": 30,
   "id": "5e6cd75c",
   "metadata": {},
   "outputs": [],
   "source": [
    "# STANDARDIZATION"
   ]
  },
  {
   "cell_type": "code",
   "execution_count": 31,
   "id": "04120f04",
   "metadata": {},
   "outputs": [
    {
     "data": {
      "text/plain": [
       "[-1.104, -0.56, -0.395, -0.37, -0.213, -0.177, -0.027, 0.038, 0.149, 2.659]"
      ]
     },
     "execution_count": 31,
     "metadata": {},
     "output_type": "execute_result"
    }
   ],
   "source": [
    "for i in range(0,n):\n",
    "    a[i]=round(((a[i]-mean)/sd),3)\n",
    "a"
   ]
  },
  {
   "cell_type": "code",
   "execution_count": null,
   "id": "300f238d",
   "metadata": {},
   "outputs": [],
   "source": []
  },
  {
   "cell_type": "code",
   "execution_count": null,
   "id": "b46a1d90",
   "metadata": {},
   "outputs": [],
   "source": []
  }
 ],
 "metadata": {
  "kernelspec": {
   "display_name": "Python 3 (ipykernel)",
   "language": "python",
   "name": "python3"
  },
  "language_info": {
   "codemirror_mode": {
    "name": "ipython",
    "version": 3
   },
   "file_extension": ".py",
   "mimetype": "text/x-python",
   "name": "python",
   "nbconvert_exporter": "python",
   "pygments_lexer": "ipython3",
   "version": "3.11.5"
  }
 },
 "nbformat": 4,
 "nbformat_minor": 5
}
